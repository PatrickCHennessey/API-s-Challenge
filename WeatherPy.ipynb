{
 "cells": [
  {
   "cell_type": "markdown",
   "metadata": {},
   "source": [
    "# WeatherPy\n",
    "----\n",
    "\n",
    "#### Note\n",
    "* Instructions have been included for each segment. You do not have to follow them exactly, but they are included to help you think through the steps."
   ]
  },
  {
   "cell_type": "code",
   "execution_count": 1,
   "metadata": {
    "scrolled": true
   },
   "outputs": [],
   "source": [
    "# Dependencies and Setup\n",
    "import matplotlib.pyplot as plt\n",
    "import pandas as pd\n",
    "import numpy as np\n",
    "import requests\n",
    "import time\n",
    "from scipy.stats import linregress\n",
    "from datetime import datetime\n",
    "\n",
    "# Import API key\n",
    "from api_keys import weather_api_key\n",
    "\n",
    "# Incorporated citipy to determine city based on latitude and longitude\n",
    "from citipy import citipy\n",
    "\n",
    "# Output File (CSV)\n",
    "output_data_file = \"output_data/cities.csv\"\n",
    "\n",
    "# Range of latitudes and longitudes\n",
    "lat_range = (-90, 90)\n",
    "lng_range = (-180, 180)"
   ]
  },
  {
   "cell_type": "markdown",
   "metadata": {},
   "source": [
    "## Generate Cities List"
   ]
  },
  {
   "cell_type": "code",
   "execution_count": 2,
   "metadata": {},
   "outputs": [
    {
     "data": {
      "text/plain": [
       "603"
      ]
     },
     "execution_count": 2,
     "metadata": {},
     "output_type": "execute_result"
    }
   ],
   "source": [
    "# List for holding lat_lngs and cities\n",
    "lat_lngs = []\n",
    "cities = []\n",
    "\n",
    "# Create a set of random lat and lng combinations\n",
    "lats = np.random.uniform(lat_range[0], lat_range[1], size=1500)\n",
    "lngs = np.random.uniform(lng_range[0], lng_range[1], size=1500)\n",
    "# Zip will create a list of tuples from the combination of latitude and longitude lists\n",
    "lat_lngs = zip(lats, lngs)\n",
    "\n",
    "# Identify nearest city for each lat, lng combination\n",
    "for lat_lng in lat_lngs:\n",
    "    city = citipy.nearest_city(lat_lng[0], lat_lng[1]).city_name\n",
    "    \n",
    "    # If the city is unique, then add it to a our cities list\n",
    "    if city not in cities:\n",
    "        cities.append(city)\n",
    "\n",
    "# Print the city count to confirm sufficient count\n",
    "len(cities)"
   ]
  },
  {
   "cell_type": "markdown",
   "metadata": {},
   "source": [
    "### Perform API Calls\n",
    "* Perform a weather check on each city using a series of successive API calls.\n",
    "* Include a print log of each city as it'sbeing processed (with the city number and city name).\n"
   ]
  },
  {
   "cell_type": "code",
   "execution_count": 3,
   "metadata": {},
   "outputs": [
    {
     "name": "stdout",
     "output_type": "stream",
     "text": [
      "Beginning Data Retrieval\n",
      "-----------------------------\n",
      "Processing Record 1 of Set 1 | meyungs\n",
      "City not found. Skipping...\n",
      "Processing Record 2 of Set 1 | rikitea\n",
      "Processing Record 3 of Set 1 | boulder city\n",
      "Processing Record 4 of Set 1 | ushtobe\n",
      "Processing Record 5 of Set 1 | santo antonio do ica\n",
      "Processing Record 6 of Set 1 | mujiayingzi\n",
      "Processing Record 7 of Set 1 | saint-philippe\n",
      "Processing Record 8 of Set 1 | tateyama\n",
      "Processing Record 9 of Set 1 | melilla\n",
      "Processing Record 10 of Set 1 | taolanaro\n",
      "City not found. Skipping...\n",
      "Processing Record 11 of Set 1 | cabo san lucas\n",
      "Processing Record 12 of Set 1 | east london\n",
      "Processing Record 13 of Set 1 | lavrentiya\n",
      "Processing Record 14 of Set 1 | dikson\n",
      "Processing Record 15 of Set 1 | palabuhanratu\n",
      "City not found. Skipping...\n",
      "Processing Record 16 of Set 1 | gazli\n",
      "Processing Record 17 of Set 1 | chum phae\n",
      "Processing Record 18 of Set 1 | bluff\n",
      "Processing Record 19 of Set 1 | simdega\n",
      "Processing Record 20 of Set 1 | mar del plata\n",
      "Processing Record 21 of Set 1 | avarua\n",
      "Processing Record 22 of Set 1 | lasa\n",
      "Processing Record 23 of Set 1 | sao filipe\n",
      "Processing Record 24 of Set 1 | pisco\n",
      "Processing Record 25 of Set 1 | talnakh\n",
      "Processing Record 26 of Set 1 | liancheng\n",
      "Processing Record 27 of Set 1 | butaritari\n",
      "Processing Record 28 of Set 1 | belomorsk\n",
      "Processing Record 29 of Set 1 | nizhneyansk\n",
      "City not found. Skipping...\n",
      "Processing Record 30 of Set 1 | awbari\n",
      "Processing Record 31 of Set 1 | los llanos de aridane\n",
      "Processing Record 32 of Set 1 | xihe\n",
      "Processing Record 33 of Set 1 | akyab\n",
      "Processing Record 34 of Set 1 | labuhan\n",
      "Processing Record 35 of Set 1 | pevek\n",
      "Processing Record 36 of Set 1 | hithadhoo\n",
      "Processing Record 37 of Set 1 | longyearbyen\n",
      "Processing Record 38 of Set 1 | ushuaia\n",
      "Processing Record 39 of Set 1 | new norfolk\n",
      "Processing Record 40 of Set 1 | alice springs\n",
      "Processing Record 41 of Set 1 | sitka\n",
      "Processing Record 42 of Set 1 | puerto ayora\n",
      "Processing Record 43 of Set 1 | chuy\n",
      "Processing Record 44 of Set 1 | upernavik\n",
      "Processing Record 45 of Set 1 | mataura\n",
      "Processing Record 46 of Set 1 | saskylakh\n",
      "Processing Record 47 of Set 1 | khatanga\n",
      "Processing Record 48 of Set 1 | albany\n",
      "Processing Record 49 of Set 1 | kudahuvadhoo\n",
      "Processing Record 50 of Set 1 | aklavik\n",
      "Processing Record 1 of Set 2 | salalah\n",
      "Processing Record 2 of Set 2 | arman\n",
      "Processing Record 3 of Set 2 | ostersund\n",
      "Processing Record 4 of Set 2 | punta arenas\n",
      "Processing Record 5 of Set 2 | karpathos\n",
      "Processing Record 6 of Set 2 | khomutovka\n",
      "Processing Record 7 of Set 2 | port alfred\n",
      "Processing Record 8 of Set 2 | jamestown\n",
      "Processing Record 9 of Set 2 | kapaa\n",
      "Processing Record 10 of Set 2 | fortuna\n",
      "Processing Record 11 of Set 2 | georgetown\n",
      "Processing Record 12 of Set 2 | broome\n",
      "Processing Record 13 of Set 2 | castro\n",
      "Processing Record 14 of Set 2 | gangotri\n",
      "City not found. Skipping...\n",
      "Processing Record 15 of Set 2 | chokurdakh\n",
      "Processing Record 16 of Set 2 | ponta do sol\n",
      "Processing Record 17 of Set 2 | port arthur\n",
      "Processing Record 18 of Set 2 | nantucket\n",
      "Processing Record 19 of Set 2 | flin flon\n",
      "Processing Record 20 of Set 2 | atuona\n",
      "Processing Record 21 of Set 2 | parintins\n",
      "Processing Record 22 of Set 2 | ribeira grande\n",
      "Processing Record 23 of Set 2 | amderma\n",
      "City not found. Skipping...\n",
      "Processing Record 24 of Set 2 | kovin\n",
      "Processing Record 25 of Set 2 | kant\n",
      "Processing Record 26 of Set 2 | port elizabeth\n",
      "Processing Record 27 of Set 2 | ponta delgada\n",
      "Processing Record 28 of Set 2 | kruisfontein\n",
      "Processing Record 29 of Set 2 | eirunepe\n",
      "Processing Record 30 of Set 2 | sentyabrskiy\n",
      "City not found. Skipping...\n",
      "Processing Record 31 of Set 2 | san patricio\n",
      "Processing Record 32 of Set 2 | castellarano\n",
      "Processing Record 33 of Set 2 | river falls\n",
      "Processing Record 34 of Set 2 | andros town\n",
      "Processing Record 35 of Set 2 | mednogorskiy\n",
      "Processing Record 36 of Set 2 | marcona\n",
      "City not found. Skipping...\n",
      "Processing Record 37 of Set 2 | lompoc\n",
      "Processing Record 38 of Set 2 | paita\n",
      "Processing Record 39 of Set 2 | tigil\n",
      "Processing Record 40 of Set 2 | belushya guba\n",
      "City not found. Skipping...\n",
      "Processing Record 41 of Set 2 | bredasdorp\n",
      "Processing Record 42 of Set 2 | hermanus\n",
      "Processing Record 43 of Set 2 | provideniya\n",
      "Processing Record 44 of Set 2 | nishihara\n",
      "Processing Record 45 of Set 2 | cape town\n",
      "Processing Record 46 of Set 2 | gueret\n",
      "Processing Record 47 of Set 2 | tasiilaq\n",
      "Processing Record 48 of Set 2 | lebu\n",
      "Processing Record 49 of Set 2 | ornskoldsvik\n",
      "Processing Record 50 of Set 2 | asmara\n",
      "Processing Record 1 of Set 3 | hobart\n",
      "Processing Record 2 of Set 3 | tuktoyaktuk\n",
      "Processing Record 3 of Set 3 | vestmannaeyjar\n",
      "Processing Record 4 of Set 3 | vestmanna\n",
      "Processing Record 5 of Set 3 | torbay\n",
      "Processing Record 6 of Set 3 | takoradi\n",
      "Processing Record 7 of Set 3 | alta floresta\n",
      "Processing Record 8 of Set 3 | cherskiy\n",
      "Processing Record 9 of Set 3 | port blair\n",
      "Processing Record 10 of Set 3 | vaini\n",
      "Processing Record 11 of Set 3 | pijijiapan\n",
      "Processing Record 12 of Set 3 | lakes entrance\n",
      "Processing Record 13 of Set 3 | gat\n",
      "Processing Record 14 of Set 3 | kaeo\n",
      "Processing Record 15 of Set 3 | beringovskiy\n",
      "Processing Record 16 of Set 3 | fairview\n",
      "Processing Record 17 of Set 3 | geraldton\n",
      "Processing Record 18 of Set 3 | matara\n",
      "Processing Record 19 of Set 3 | kismayo\n",
      "Processing Record 20 of Set 3 | arrecife\n",
      "Processing Record 21 of Set 3 | khonuu\n",
      "City not found. Skipping...\n",
      "Processing Record 22 of Set 3 | illoqqortoormiut\n",
      "City not found. Skipping...\n",
      "Processing Record 23 of Set 3 | leh\n",
      "Processing Record 24 of Set 3 | toamasina\n",
      "Processing Record 25 of Set 3 | busselton\n",
      "Processing Record 26 of Set 3 | narsaq\n",
      "Processing Record 27 of Set 3 | xining\n",
      "Processing Record 28 of Set 3 | baruun-urt\n",
      "Processing Record 29 of Set 3 | attawapiskat\n",
      "City not found. Skipping...\n",
      "Processing Record 30 of Set 3 | honiara\n",
      "Processing Record 31 of Set 3 | mirnyy\n",
      "Processing Record 32 of Set 3 | guelengdeng\n",
      "City not found. Skipping...\n",
      "Processing Record 33 of Set 3 | chaoyang\n",
      "Processing Record 34 of Set 3 | qaqortoq\n",
      "Processing Record 35 of Set 3 | galle\n",
      "Processing Record 36 of Set 3 | warqla\n",
      "City not found. Skipping...\n",
      "Processing Record 37 of Set 3 | kawalu\n",
      "Processing Record 38 of Set 3 | coria\n",
      "Processing Record 39 of Set 3 | leningradskiy\n",
      "Processing Record 40 of Set 3 | la ronge\n",
      "Processing Record 41 of Set 3 | komsomolskiy\n",
      "Processing Record 42 of Set 3 | derbent\n",
      "Processing Record 43 of Set 3 | chifeng\n",
      "Processing Record 44 of Set 3 | barentsburg\n",
      "City not found. Skipping...\n",
      "Processing Record 45 of Set 3 | talas\n",
      "Processing Record 46 of Set 3 | havelock\n",
      "Processing Record 47 of Set 3 | doha\n",
      "Processing Record 48 of Set 3 | saint-augustin\n",
      "Processing Record 49 of Set 3 | chicama\n",
      "Processing Record 50 of Set 3 | gobabis\n",
      "Processing Record 1 of Set 4 | askarovo\n",
      "Processing Record 2 of Set 4 | neon karlovasion\n",
      "Processing Record 3 of Set 4 | kavieng\n",
      "Processing Record 4 of Set 4 | abalak\n",
      "Processing Record 5 of Set 4 | bama\n",
      "Processing Record 6 of Set 4 | acapulco\n",
      "Processing Record 7 of Set 4 | eustis\n",
      "Processing Record 8 of Set 4 | luderitz\n",
      "Processing Record 9 of Set 4 | broken hill\n",
      "Processing Record 10 of Set 4 | maldonado\n",
      "Processing Record 11 of Set 4 | saint-georges\n",
      "Processing Record 12 of Set 4 | sobolevo\n",
      "Processing Record 13 of Set 4 | falealupo\n",
      "City not found. Skipping...\n",
      "Processing Record 14 of Set 4 | tres arroyos\n",
      "Processing Record 15 of Set 4 | agadir\n",
      "Processing Record 16 of Set 4 | hasaki\n",
      "Processing Record 17 of Set 4 | hamilton\n",
      "Processing Record 18 of Set 4 | grand gaube\n",
      "Processing Record 19 of Set 4 | ancud\n",
      "Processing Record 20 of Set 4 | nador\n",
      "Processing Record 21 of Set 4 | west wendover\n",
      "Processing Record 22 of Set 4 | takhtamygda\n",
      "Processing Record 23 of Set 4 | laguna\n",
      "Processing Record 24 of Set 4 | la union\n",
      "Processing Record 25 of Set 4 | krasnoye\n",
      "Processing Record 26 of Set 4 | portland\n",
      "Processing Record 27 of Set 4 | carnarvon\n",
      "Processing Record 28 of Set 4 | izhma\n",
      "Processing Record 29 of Set 4 | acajutla\n",
      "Processing Record 30 of Set 4 | constitucion\n",
      "Processing Record 31 of Set 4 | goderich\n",
      "Processing Record 32 of Set 4 | borba\n",
      "Processing Record 33 of Set 4 | clyde river\n",
      "Processing Record 34 of Set 4 | muriwai beach\n",
      "Processing Record 35 of Set 4 | havoysund\n",
      "Processing Record 36 of Set 4 | madang\n"
     ]
    },
    {
     "name": "stdout",
     "output_type": "stream",
     "text": [
      "Processing Record 37 of Set 4 | nikolskoye\n",
      "Processing Record 38 of Set 4 | shubarkuduk\n",
      "Processing Record 39 of Set 4 | mbini\n",
      "Processing Record 40 of Set 4 | tuy hoa\n",
      "Processing Record 41 of Set 4 | mys shmidta\n",
      "City not found. Skipping...\n",
      "Processing Record 42 of Set 4 | saldanha\n",
      "Processing Record 43 of Set 4 | kodiak\n",
      "Processing Record 44 of Set 4 | bow island\n",
      "Processing Record 45 of Set 4 | aswan\n",
      "Processing Record 46 of Set 4 | bethel\n",
      "Processing Record 47 of Set 4 | arraial do cabo\n",
      "Processing Record 48 of Set 4 | magistralnyy\n",
      "Processing Record 49 of Set 4 | belle fourche\n",
      "Processing Record 50 of Set 4 | tawkar\n",
      "City not found. Skipping...\n",
      "Processing Record 1 of Set 5 | ust-nera\n",
      "Processing Record 2 of Set 5 | san jose\n",
      "Processing Record 3 of Set 5 | yerbogachen\n",
      "Processing Record 4 of Set 5 | hilo\n",
      "Processing Record 5 of Set 5 | qaanaaq\n",
      "Processing Record 6 of Set 5 | kaitangata\n",
      "Processing Record 7 of Set 5 | tefe\n",
      "Processing Record 8 of Set 5 | muscatine\n",
      "Processing Record 9 of Set 5 | aykhal\n",
      "Processing Record 10 of Set 5 | severo-kurilsk\n",
      "Processing Record 11 of Set 5 | mvuma\n",
      "Processing Record 12 of Set 5 | durango\n",
      "Processing Record 13 of Set 5 | novyy urengoy\n",
      "Processing Record 14 of Set 5 | vostok\n",
      "Processing Record 15 of Set 5 | kahului\n",
      "Processing Record 16 of Set 5 | walvis bay\n",
      "Processing Record 17 of Set 5 | ust-omchug\n",
      "Processing Record 18 of Set 5 | holland\n",
      "Processing Record 19 of Set 5 | henties bay\n",
      "Processing Record 20 of Set 5 | aranos\n",
      "Processing Record 21 of Set 5 | drayton valley\n",
      "Processing Record 22 of Set 5 | thompson\n",
      "Processing Record 23 of Set 5 | ravar\n",
      "Processing Record 24 of Set 5 | whyalla\n",
      "Processing Record 25 of Set 5 | mehamn\n",
      "Processing Record 26 of Set 5 | havre\n",
      "Processing Record 27 of Set 5 | polson\n",
      "Processing Record 28 of Set 5 | cabedelo\n",
      "Processing Record 29 of Set 5 | samalaeulu\n",
      "City not found. Skipping...\n",
      "Processing Record 30 of Set 5 | formoso do araguaia\n",
      "City not found. Skipping...\n",
      "Processing Record 31 of Set 5 | limon\n",
      "Processing Record 32 of Set 5 | airai\n",
      "Processing Record 33 of Set 5 | tarare\n",
      "Processing Record 34 of Set 5 | mairana\n",
      "Processing Record 35 of Set 5 | victoria\n",
      "Processing Record 36 of Set 5 | kirakira\n",
      "Processing Record 37 of Set 5 | san andres\n",
      "Processing Record 38 of Set 5 | ardmore\n",
      "Processing Record 39 of Set 5 | isangel\n",
      "Processing Record 40 of Set 5 | socorro\n",
      "Processing Record 41 of Set 5 | mahebourg\n",
      "Processing Record 42 of Set 5 | skibbereen\n",
      "Processing Record 43 of Set 5 | hambantota\n",
      "Processing Record 44 of Set 5 | zunyi\n",
      "Processing Record 45 of Set 5 | praia\n",
      "Processing Record 46 of Set 5 | aketi\n",
      "Processing Record 47 of Set 5 | monywa\n",
      "Processing Record 48 of Set 5 | haines junction\n",
      "Processing Record 49 of Set 5 | saharanpur\n",
      "Processing Record 50 of Set 5 | codrington\n",
      "Processing Record 1 of Set 6 | ulaanbaatar\n",
      "Processing Record 2 of Set 6 | saleaula\n",
      "City not found. Skipping...\n",
      "Processing Record 3 of Set 6 | santa cruz\n",
      "Processing Record 4 of Set 6 | buin\n",
      "Processing Record 5 of Set 6 | zhezkazgan\n",
      "Processing Record 6 of Set 6 | cidreira\n",
      "Processing Record 7 of Set 6 | plavinas\n",
      "Processing Record 8 of Set 6 | kytlym\n",
      "City not found. Skipping...\n",
      "Processing Record 9 of Set 6 | gangavalli\n",
      "Processing Record 10 of Set 6 | gizo\n",
      "Processing Record 11 of Set 6 | yefimovskiy\n",
      "City not found. Skipping...\n",
      "Processing Record 12 of Set 6 | mariental\n",
      "Processing Record 13 of Set 6 | lorengau\n",
      "Processing Record 14 of Set 6 | kannur\n",
      "Processing Record 15 of Set 6 | koumac\n",
      "Processing Record 16 of Set 6 | parambu\n",
      "Processing Record 17 of Set 6 | norman wells\n",
      "Processing Record 18 of Set 6 | vedi\n",
      "Processing Record 19 of Set 6 | ontario\n",
      "Processing Record 20 of Set 6 | lagoa\n",
      "Processing Record 21 of Set 6 | vinh long\n",
      "Processing Record 22 of Set 6 | raudeberg\n",
      "Processing Record 23 of Set 6 | marystown\n",
      "Processing Record 24 of Set 6 | dingle\n",
      "Processing Record 25 of Set 6 | kavaratti\n",
      "Processing Record 26 of Set 6 | nemuro\n",
      "Processing Record 27 of Set 6 | czersk\n",
      "Processing Record 28 of Set 6 | souillac\n",
      "Processing Record 29 of Set 6 | bandarbeyla\n",
      "Processing Record 30 of Set 6 | yinchuan\n",
      "Processing Record 31 of Set 6 | tiksi\n",
      "Processing Record 32 of Set 6 | ruatoria\n",
      "City not found. Skipping...\n",
      "Processing Record 33 of Set 6 | nouadhibou\n",
      "Processing Record 34 of Set 6 | sao mateus\n",
      "Processing Record 35 of Set 6 | solano\n",
      "Processing Record 36 of Set 6 | mundo nuevo\n",
      "Processing Record 37 of Set 6 | hoopstad\n",
      "Processing Record 38 of Set 6 | fevralsk\n",
      "City not found. Skipping...\n",
      "Processing Record 39 of Set 6 | berlevag\n",
      "Processing Record 40 of Set 6 | birao\n",
      "Processing Record 41 of Set 6 | burns lake\n",
      "Processing Record 42 of Set 6 | bethlehem\n",
      "Processing Record 43 of Set 6 | krasnoselkup\n",
      "Processing Record 44 of Set 6 | barrow\n",
      "Processing Record 45 of Set 6 | margate\n",
      "Processing Record 46 of Set 6 | nyurba\n",
      "Processing Record 47 of Set 6 | aksu\n",
      "Processing Record 48 of Set 6 | padang\n",
      "Processing Record 49 of Set 6 | coquimbo\n",
      "Processing Record 50 of Set 6 | coihaique\n",
      "Processing Record 1 of Set 7 | nome\n",
      "Processing Record 2 of Set 7 | helong\n",
      "Processing Record 3 of Set 7 | balykshi\n",
      "City not found. Skipping...\n",
      "Processing Record 4 of Set 7 | doctor pedro p. pena\n",
      "City not found. Skipping...\n",
      "Processing Record 5 of Set 7 | burnie\n",
      "Processing Record 6 of Set 7 | troitskoye\n",
      "Processing Record 7 of Set 7 | wronki\n",
      "Processing Record 8 of Set 7 | egvekinot\n",
      "Processing Record 9 of Set 7 | vaitupu\n",
      "City not found. Skipping...\n",
      "Processing Record 10 of Set 7 | paka\n",
      "Processing Record 11 of Set 7 | kropachevo\n",
      "Processing Record 12 of Set 7 | susangerd\n",
      "Processing Record 13 of Set 7 | dapaong\n",
      "Processing Record 14 of Set 7 | yellowknife\n",
      "Processing Record 15 of Set 7 | okhotsk\n",
      "Processing Record 16 of Set 7 | plouzane\n",
      "Processing Record 17 of Set 7 | anadyr\n",
      "Processing Record 18 of Set 7 | sabang\n",
      "Processing Record 19 of Set 7 | alofi\n",
      "Processing Record 20 of Set 7 | dengzhou\n",
      "Processing Record 21 of Set 7 | bowen\n",
      "Processing Record 22 of Set 7 | stephenville\n",
      "Processing Record 23 of Set 7 | sindal\n",
      "Processing Record 24 of Set 7 | marang\n",
      "Processing Record 25 of Set 7 | meulaboh\n",
      "Processing Record 26 of Set 7 | lagos\n",
      "Processing Record 27 of Set 7 | bakchar\n",
      "Processing Record 28 of Set 7 | panguna\n",
      "Processing Record 29 of Set 7 | murygino\n",
      "Processing Record 30 of Set 7 | tsihombe\n",
      "City not found. Skipping...\n",
      "Processing Record 31 of Set 7 | sergeyevka\n",
      "Processing Record 32 of Set 7 | swellendam\n",
      "Processing Record 33 of Set 7 | faanui\n",
      "Processing Record 34 of Set 7 | sorong\n",
      "Processing Record 35 of Set 7 | san cristobal\n",
      "Processing Record 36 of Set 7 | soyo\n",
      "Processing Record 37 of Set 7 | hofn\n",
      "Processing Record 38 of Set 7 | pangnirtung\n",
      "Processing Record 39 of Set 7 | bargal\n",
      "City not found. Skipping...\n",
      "Processing Record 40 of Set 7 | klaksvik\n",
      "Processing Record 41 of Set 7 | lolua\n",
      "City not found. Skipping...\n",
      "Processing Record 42 of Set 7 | bolivar\n",
      "Processing Record 43 of Set 7 | ayagoz\n",
      "Processing Record 44 of Set 7 | noyabrsk\n",
      "Processing Record 45 of Set 7 | karpogory\n",
      "Processing Record 46 of Set 7 | achutupo\n",
      "Processing Record 47 of Set 7 | evensk\n",
      "Processing Record 48 of Set 7 | puerto carreno\n",
      "Processing Record 49 of Set 7 | rincon\n",
      "Processing Record 50 of Set 7 | kodinsk\n",
      "Processing Record 1 of Set 8 | biak\n",
      "Processing Record 2 of Set 8 | jalu\n",
      "Processing Record 3 of Set 8 | nanortalik\n",
      "Processing Record 4 of Set 8 | puhja\n",
      "Processing Record 5 of Set 8 | olafsvik\n",
      "Processing Record 6 of Set 8 | kuche\n",
      "City not found. Skipping...\n",
      "Processing Record 7 of Set 8 | itoman\n",
      "Processing Record 8 of Set 8 | shaunavon\n",
      "Processing Record 9 of Set 8 | ler\n",
      "Processing Record 10 of Set 8 | bumba\n",
      "Processing Record 11 of Set 8 | fukue\n",
      "Processing Record 12 of Set 8 | katsuura\n",
      "Processing Record 13 of Set 8 | san juan\n",
      "Processing Record 14 of Set 8 | pangody\n",
      "Processing Record 15 of Set 8 | porto novo\n",
      "Processing Record 16 of Set 8 | tumannyy\n",
      "City not found. Skipping...\n",
      "Processing Record 17 of Set 8 | sayyan\n",
      "Processing Record 18 of Set 8 | kulhudhuffushi\n",
      "Processing Record 19 of Set 8 | pasighat\n",
      "Processing Record 20 of Set 8 | biltine\n",
      "Processing Record 21 of Set 8 | buraydah\n",
      "Processing Record 22 of Set 8 | berberati\n",
      "Processing Record 23 of Set 8 | guerrero negro\n",
      "Processing Record 24 of Set 8 | ertil\n",
      "Processing Record 25 of Set 8 | ketchikan\n",
      "Processing Record 26 of Set 8 | fairbanks\n",
      "Processing Record 27 of Set 8 | srivardhan\n"
     ]
    },
    {
     "name": "stdout",
     "output_type": "stream",
     "text": [
      "Processing Record 28 of Set 8 | susehri\n",
      "Processing Record 29 of Set 8 | ilulissat\n",
      "Processing Record 30 of Set 8 | tilichiki\n",
      "Processing Record 31 of Set 8 | kenai\n",
      "Processing Record 32 of Set 8 | kollegal\n",
      "Processing Record 33 of Set 8 | zhigansk\n",
      "Processing Record 34 of Set 8 | aquin\n",
      "Processing Record 35 of Set 8 | blackwater\n",
      "Processing Record 36 of Set 8 | ugoofaaru\n",
      "Processing Record 37 of Set 8 | dhidhdhoo\n",
      "Processing Record 38 of Set 8 | sao felix do xingu\n",
      "Processing Record 39 of Set 8 | iqaluit\n",
      "Processing Record 40 of Set 8 | ternate\n",
      "Processing Record 41 of Set 8 | dombas\n",
      "Processing Record 42 of Set 8 | port-gentil\n",
      "Processing Record 43 of Set 8 | katobu\n",
      "Processing Record 44 of Set 8 | vao\n",
      "Processing Record 45 of Set 8 | ondjiva\n",
      "Processing Record 46 of Set 8 | bulawayo\n",
      "Processing Record 47 of Set 8 | malanje\n",
      "Processing Record 48 of Set 8 | bella union\n",
      "Processing Record 49 of Set 8 | manicore\n",
      "Processing Record 50 of Set 8 | trairi\n",
      "Processing Record 1 of Set 9 | ahipara\n",
      "Processing Record 2 of Set 9 | husavik\n",
      "Processing Record 3 of Set 9 | tagusao\n",
      "Processing Record 4 of Set 9 | bambous virieux\n",
      "Processing Record 5 of Set 9 | ingham\n",
      "Processing Record 6 of Set 9 | clifton springs\n",
      "Processing Record 7 of Set 9 | mount isa\n",
      "Processing Record 8 of Set 9 | guekedou\n",
      "City not found. Skipping...\n",
      "Processing Record 9 of Set 9 | shimoda\n",
      "Processing Record 10 of Set 9 | paamiut\n",
      "Processing Record 11 of Set 9 | magadi\n",
      "Processing Record 12 of Set 9 | batman\n",
      "Processing Record 13 of Set 9 | cayenne\n",
      "Processing Record 14 of Set 9 | nadym\n",
      "Processing Record 15 of Set 9 | ardakan\n",
      "Processing Record 16 of Set 9 | bossier city\n",
      "Processing Record 17 of Set 9 | zyryanka\n",
      "Processing Record 18 of Set 9 | vardo\n",
      "Processing Record 19 of Set 9 | barranca\n",
      "Processing Record 20 of Set 9 | srednekolymsk\n",
      "Processing Record 21 of Set 9 | esperance\n",
      "Processing Record 22 of Set 9 | piryion\n",
      "City not found. Skipping...\n",
      "Processing Record 23 of Set 9 | suzu\n",
      "City not found. Skipping...\n",
      "Processing Record 24 of Set 9 | alotau\n",
      "City not found. Skipping...\n",
      "Processing Record 25 of Set 9 | chirongui\n",
      "Processing Record 26 of Set 9 | taoudenni\n",
      "Processing Record 27 of Set 9 | rangapara\n",
      "Processing Record 28 of Set 9 | kalofer\n",
      "Processing Record 29 of Set 9 | warmbad\n",
      "Processing Record 30 of Set 9 | bulgan\n",
      "Processing Record 31 of Set 9 | odlabari\n",
      "Processing Record 32 of Set 9 | guangyuan\n",
      "Processing Record 33 of Set 9 | sao joao da barra\n",
      "Processing Record 34 of Set 9 | olinda\n",
      "Processing Record 35 of Set 9 | chandbali\n",
      "Processing Record 36 of Set 9 | mrirt\n",
      "City not found. Skipping...\n",
      "Processing Record 37 of Set 9 | chapais\n",
      "Processing Record 38 of Set 9 | nichinan\n",
      "Processing Record 39 of Set 9 | mendi\n",
      "Processing Record 40 of Set 9 | nogales\n",
      "Processing Record 41 of Set 9 | tabiauea\n",
      "City not found. Skipping...\n",
      "Processing Record 42 of Set 9 | namibe\n",
      "Processing Record 43 of Set 9 | junagarh\n",
      "Processing Record 44 of Set 9 | grand bank\n",
      "Processing Record 45 of Set 9 | tyulgan\n",
      "Processing Record 46 of Set 9 | sur\n",
      "Processing Record 47 of Set 9 | katherine\n",
      "Processing Record 48 of Set 9 | aguimes\n",
      "Processing Record 49 of Set 9 | ranong\n",
      "Processing Record 50 of Set 9 | bara\n",
      "Processing Record 1 of Set 10 | yangambi\n",
      "Processing Record 2 of Set 10 | yulara\n",
      "Processing Record 3 of Set 10 | scarborough\n",
      "Processing Record 4 of Set 10 | waddan\n",
      "Processing Record 5 of Set 10 | port keats\n",
      "Processing Record 6 of Set 10 | tekirdag\n",
      "Processing Record 7 of Set 10 | verkhnyaya inta\n",
      "Processing Record 8 of Set 10 | akdepe\n",
      "Processing Record 9 of Set 10 | marawi\n",
      "Processing Record 10 of Set 10 | korla\n",
      "Processing Record 11 of Set 10 | sept-iles\n",
      "Processing Record 12 of Set 10 | port lincoln\n",
      "Processing Record 13 of Set 10 | amahai\n",
      "Processing Record 14 of Set 10 | abapo\n",
      "Processing Record 15 of Set 10 | grand river south east\n",
      "City not found. Skipping...\n",
      "Processing Record 16 of Set 10 | dunedin\n",
      "Processing Record 17 of Set 10 | ayame\n",
      "Processing Record 18 of Set 10 | afzalpur\n",
      "Processing Record 19 of Set 10 | zemio\n",
      "Processing Record 20 of Set 10 | loreto\n",
      "Processing Record 21 of Set 10 | naftah\n",
      "City not found. Skipping...\n",
      "Processing Record 22 of Set 10 | naze\n",
      "Processing Record 23 of Set 10 | neiafu\n",
      "Processing Record 24 of Set 10 | tiznit\n",
      "Processing Record 25 of Set 10 | mayumba\n",
      "Processing Record 26 of Set 10 | hvammstangi\n",
      "City not found. Skipping...\n",
      "Processing Record 27 of Set 10 | kikwit\n",
      "Processing Record 28 of Set 10 | necochea\n",
      "Processing Record 29 of Set 10 | la romana\n",
      "Processing Record 30 of Set 10 | chibuto\n",
      "Processing Record 31 of Set 10 | nchelenge\n",
      "Processing Record 32 of Set 10 | grosse pointe farms\n",
      "Processing Record 33 of Set 10 | gawler\n",
      "Processing Record 34 of Set 10 | ostrovnoy\n",
      "Processing Record 35 of Set 10 | phan thiet\n",
      "Processing Record 36 of Set 10 | caravelas\n",
      "Processing Record 37 of Set 10 | limbang\n",
      "Processing Record 38 of Set 10 | tunduru\n",
      "City not found. Skipping...\n",
      "Processing Record 39 of Set 10 | iguape\n",
      "Processing Record 40 of Set 10 | noumea\n",
      "Processing Record 41 of Set 10 | abnub\n",
      "Processing Record 42 of Set 10 | grand-santi\n",
      "Processing Record 43 of Set 10 | midland\n",
      "Processing Record 44 of Set 10 | ewa beach\n",
      "Processing Record 45 of Set 10 | sekoma\n",
      "Processing Record 46 of Set 10 | dothan\n",
      "Processing Record 47 of Set 10 | harindanga\n",
      "Processing Record 48 of Set 10 | auki\n",
      "Processing Record 49 of Set 10 | harnosand\n",
      "Processing Record 50 of Set 10 | merauke\n",
      "Processing Record 1 of Set 11 | luba\n",
      "Processing Record 2 of Set 11 | ribeira brava\n",
      "Processing Record 3 of Set 11 | romny\n",
      "Processing Record 4 of Set 11 | marfino\n",
      "Processing Record 5 of Set 11 | talara\n",
      "Processing Record 6 of Set 11 | stony plain\n",
      "Processing Record 7 of Set 11 | inhambane\n",
      "Processing Record 8 of Set 11 | praia da vitoria\n",
      "Processing Record 9 of Set 11 | shubarshi\n",
      "Processing Record 10 of Set 11 | banda aceh\n",
      "Processing Record 11 of Set 11 | yenagoa\n",
      "Processing Record 12 of Set 11 | almaznyy\n",
      "Processing Record 13 of Set 11 | quarai\n",
      "Processing Record 14 of Set 11 | prince rupert\n",
      "Processing Record 15 of Set 11 | deder\n",
      "Processing Record 16 of Set 11 | binga\n",
      "Processing Record 17 of Set 11 | vila velha\n",
      "Processing Record 18 of Set 11 | maarianhamina\n",
      "Processing Record 19 of Set 11 | guanica\n",
      "Processing Record 20 of Set 11 | mosquera\n",
      "Processing Record 21 of Set 11 | along\n",
      "Processing Record 22 of Set 11 | wattegama\n",
      "Processing Record 23 of Set 11 | leshukonskoye\n",
      "Processing Record 24 of Set 11 | valparaiso\n",
      "Processing Record 25 of Set 11 | huilong\n",
      "Processing Record 26 of Set 11 | bhinga\n",
      "Processing Record 27 of Set 11 | labuan\n",
      "Processing Record 28 of Set 11 | pecos\n",
      "Processing Record 29 of Set 11 | bathsheba\n",
      "Processing Record 30 of Set 11 | mersing\n",
      "Processing Record 31 of Set 11 | zell am see\n",
      "Processing Record 32 of Set 11 | le mars\n",
      "Processing Record 33 of Set 11 | tucurui\n",
      "Processing Record 34 of Set 11 | gravdal\n",
      "Processing Record 35 of Set 11 | ciudad bolivar\n",
      "Processing Record 36 of Set 11 | thinadhoo\n",
      "Processing Record 37 of Set 11 | virginia beach\n",
      "Processing Record 38 of Set 11 | eureka\n",
      "Processing Record 39 of Set 11 | samusu\n",
      "City not found. Skipping...\n",
      "Processing Record 40 of Set 11 | hovd\n",
      "Processing Record 41 of Set 11 | bahia honda\n",
      "Processing Record 42 of Set 11 | severodvinsk\n",
      "Processing Record 43 of Set 11 | quatre cocos\n",
      "Processing Record 44 of Set 11 | trivalea-mosteni\n",
      "Processing Record 45 of Set 11 | atar\n",
      "Processing Record 46 of Set 11 | breves\n",
      "Processing Record 47 of Set 11 | rawson\n",
      "Processing Record 48 of Set 11 | urtaaul\n",
      "City not found. Skipping...\n",
      "Processing Record 49 of Set 11 | kawana waters\n",
      "City not found. Skipping...\n",
      "Processing Record 50 of Set 11 | port-de-paix\n",
      "City not found. Skipping...\n",
      "Processing Record 1 of Set 12 | belmonte\n",
      "Processing Record 2 of Set 12 | rawannawi\n",
      "City not found. Skipping...\n",
      "Processing Record 3 of Set 12 | lethem\n",
      "Processing Record 4 of Set 12 | amapa\n",
      "Processing Record 5 of Set 12 | tiarei\n",
      "Processing Record 6 of Set 12 | umm kaddadah\n",
      "Processing Record 7 of Set 12 | pingxiang\n",
      "Processing Record 8 of Set 12 | tinqueux\n",
      "Processing Record 9 of Set 12 | caluquembe\n",
      "Processing Record 10 of Set 12 | bandar-e lengeh\n",
      "Processing Record 11 of Set 12 | nikologory\n",
      "Processing Record 12 of Set 12 | rabo de peixe\n",
      "Processing Record 13 of Set 12 | zapolyarnyy\n",
      "Processing Record 14 of Set 12 | abu kamal\n",
      "Processing Record 15 of Set 12 | santo domingo\n"
     ]
    },
    {
     "name": "stdout",
     "output_type": "stream",
     "text": [
      "Processing Record 16 of Set 12 | saint-francois\n",
      "Processing Record 17 of Set 12 | tessalit\n",
      "Processing Record 18 of Set 12 | south venice\n",
      "Processing Record 19 of Set 12 | kyrksaeterora\n",
      "Processing Record 20 of Set 12 | baraboo\n",
      "Processing Record 21 of Set 12 | ust-kamchatsk\n",
      "City not found. Skipping...\n",
      "Processing Record 22 of Set 12 | abu dhabi\n",
      "Processing Record 23 of Set 12 | saint george\n",
      "Processing Record 24 of Set 12 | rundu\n",
      "Processing Record 25 of Set 12 | tabuk\n",
      "Processing Record 26 of Set 12 | oktyabrskiy\n",
      "Processing Record 27 of Set 12 | port hardy\n",
      "Processing Record 28 of Set 12 | qujing\n",
      "Processing Record 29 of Set 12 | saint anthony\n",
      "Processing Record 30 of Set 12 | okha\n",
      "Processing Record 31 of Set 12 | sivas\n",
      "Processing Record 32 of Set 12 | oranjemund\n",
      "Processing Record 33 of Set 12 | bolshaya murta\n",
      "City not found. Skipping...\n",
      "Processing Record 34 of Set 12 | cesvaine\n",
      "Processing Record 35 of Set 12 | santarem\n",
      "Processing Record 36 of Set 12 | solovetskiy\n",
      "City not found. Skipping...\n",
      "Processing Record 37 of Set 12 | honningsvag\n",
      "Processing Record 38 of Set 12 | haapsalu\n",
      "Processing Record 39 of Set 12 | pauini\n",
      "Processing Record 40 of Set 12 | lata\n",
      "Processing Record 41 of Set 12 | nsawam\n",
      "Processing Record 42 of Set 12 | ixtapa\n",
      "Processing Record 43 of Set 12 | laurel\n",
      "Processing Record 44 of Set 12 | ngukurr\n",
      "City not found. Skipping...\n",
      "Processing Record 45 of Set 12 | poum\n",
      "Processing Record 46 of Set 12 | kachiry\n",
      "Processing Record 47 of Set 12 | santa maria do suacui\n",
      "Processing Record 48 of Set 12 | tongliao\n",
      "Processing Record 49 of Set 12 | palmer\n",
      "Processing Record 50 of Set 12 | anloga\n",
      "Processing Record 1 of Set 13 | tombouctou\n",
      "Processing Record 2 of Set 13 | khorramshahr\n",
      "Processing Record 3 of Set 13 | sioux lookout\n",
      "-----------------------------\n",
      "Data Retrieval Complete\n",
      "-----------------------------\n"
     ]
    }
   ],
   "source": [
    "from pprint import pprint\n",
    "\n",
    "city_set = 1\n",
    "num = 0\n",
    "\n",
    "weather_data = []\n",
    "base_url = \"http://api.openweathermap.org/data/2.5/weather?q=\"\n",
    "\n",
    "\n",
    "print(\"Beginning Data Retrieval\")     \n",
    "print(\"-----------------------------\")\n",
    "\n",
    "#for city in cities[:3]:  #<--- This will give first 3 rows \n",
    "for city in cities:\n",
    "    num += 1\n",
    "    print(f\"Processing Record {num} of Set {city_set} | {city}\")\n",
    "    url = f\"{base_url}{city}&appid={weather_api_key}&units=imperial\"\n",
    "    \n",
    "    if num % 50 == 0: \n",
    "        city_set += 1\n",
    "        num = 0\n",
    "    try:\n",
    "        r = requests.get(url).json()\n",
    "        # pprint(r)\n",
    "\n",
    "        city_weather = {\n",
    "            \"city_name\": city,\n",
    "            \"latitude\": r['coord']['lat'],\n",
    "            \"longitude\": r['coord']['lon'], \n",
    "            \"temperature_max\": r['main']['temp_max'],\n",
    "            \"humidity_percent\": r['main']['humidity'],\n",
    "            \"cloudiness_percent\": r['clouds']['all'],\n",
    "            \"wind_speed_percent\": r['wind']['speed'],\n",
    "            \"country\": r['sys']['country'],\n",
    "            \"date\": r['dt'] #Note: Will need to convert from Unix to Python date time, Google how to\n",
    "        }\n",
    "\n",
    "        weather_data.append(city_weather)\n",
    "    except (KeyError, IndexError): \n",
    "        print(\"City not found. Skipping...\")\n",
    "        \n",
    "print(\"-----------------------------\")\n",
    "print(\"Data Retrieval Complete\")      \n",
    "print(\"-----------------------------\")"
   ]
  },
  {
   "cell_type": "markdown",
   "metadata": {},
   "source": [
    "### Convert Raw Data to DataFrame\n",
    "* Export the city data into a .csv.\n",
    "* Display the DataFrame"
   ]
  },
  {
   "cell_type": "code",
   "execution_count": 4,
   "metadata": {},
   "outputs": [
    {
     "data": {
      "text/html": [
       "<div>\n",
       "<style scoped>\n",
       "    .dataframe tbody tr th:only-of-type {\n",
       "        vertical-align: middle;\n",
       "    }\n",
       "\n",
       "    .dataframe tbody tr th {\n",
       "        vertical-align: top;\n",
       "    }\n",
       "\n",
       "    .dataframe thead th {\n",
       "        text-align: right;\n",
       "    }\n",
       "</style>\n",
       "<table border=\"1\" class=\"dataframe\">\n",
       "  <thead>\n",
       "    <tr style=\"text-align: right;\">\n",
       "      <th></th>\n",
       "      <th>City</th>\n",
       "      <th>Lat</th>\n",
       "      <th>Lng</th>\n",
       "      <th>Max Temp</th>\n",
       "      <th>Humidity</th>\n",
       "      <th>Cloudiness</th>\n",
       "      <th>Wind Speed</th>\n",
       "      <th>Country</th>\n",
       "      <th>Date</th>\n",
       "    </tr>\n",
       "  </thead>\n",
       "  <tbody>\n",
       "    <tr>\n",
       "      <th>0</th>\n",
       "      <td>rikitea</td>\n",
       "      <td>-23.12</td>\n",
       "      <td>-134.97</td>\n",
       "      <td>70.88</td>\n",
       "      <td>78</td>\n",
       "      <td>8</td>\n",
       "      <td>13.49</td>\n",
       "      <td>PF</td>\n",
       "      <td>1597684082</td>\n",
       "    </tr>\n",
       "    <tr>\n",
       "      <th>1</th>\n",
       "      <td>boulder city</td>\n",
       "      <td>35.98</td>\n",
       "      <td>-114.83</td>\n",
       "      <td>100.99</td>\n",
       "      <td>22</td>\n",
       "      <td>1</td>\n",
       "      <td>9.17</td>\n",
       "      <td>US</td>\n",
       "      <td>1597684360</td>\n",
       "    </tr>\n",
       "    <tr>\n",
       "      <th>2</th>\n",
       "      <td>ushtobe</td>\n",
       "      <td>45.25</td>\n",
       "      <td>77.98</td>\n",
       "      <td>77.68</td>\n",
       "      <td>32</td>\n",
       "      <td>68</td>\n",
       "      <td>10.31</td>\n",
       "      <td>KZ</td>\n",
       "      <td>1597684360</td>\n",
       "    </tr>\n",
       "    <tr>\n",
       "      <th>3</th>\n",
       "      <td>santo antonio do ica</td>\n",
       "      <td>-3.10</td>\n",
       "      <td>-67.94</td>\n",
       "      <td>98.76</td>\n",
       "      <td>37</td>\n",
       "      <td>15</td>\n",
       "      <td>2.26</td>\n",
       "      <td>BR</td>\n",
       "      <td>1597684360</td>\n",
       "    </tr>\n",
       "    <tr>\n",
       "      <th>4</th>\n",
       "      <td>mujiayingzi</td>\n",
       "      <td>42.12</td>\n",
       "      <td>118.78</td>\n",
       "      <td>69.76</td>\n",
       "      <td>84</td>\n",
       "      <td>44</td>\n",
       "      <td>1.86</td>\n",
       "      <td>CN</td>\n",
       "      <td>1597684360</td>\n",
       "    </tr>\n",
       "  </tbody>\n",
       "</table>\n",
       "</div>"
      ],
      "text/plain": [
       "                   City    Lat     Lng  Max Temp  Humidity  Cloudiness  \\\n",
       "0               rikitea -23.12 -134.97     70.88        78           8   \n",
       "1          boulder city  35.98 -114.83    100.99        22           1   \n",
       "2               ushtobe  45.25   77.98     77.68        32          68   \n",
       "3  santo antonio do ica  -3.10  -67.94     98.76        37          15   \n",
       "4           mujiayingzi  42.12  118.78     69.76        84          44   \n",
       "\n",
       "   Wind Speed Country        Date  \n",
       "0       13.49      PF  1597684082  \n",
       "1        9.17      US  1597684360  \n",
       "2       10.31      KZ  1597684360  \n",
       "3        2.26      BR  1597684360  \n",
       "4        1.86      CN  1597684360  "
      ]
     },
     "execution_count": 4,
     "metadata": {},
     "output_type": "execute_result"
    }
   ],
   "source": [
    "weather_df = pd.DataFrame(weather_data)\n",
    "#use of inplace instead of overwriting variable\n",
    "weather_df.rename(columns={\n",
    "    \"city_name\": \"City\", \n",
    "    \"latitude\": \"Lat\",\n",
    "    \"longitude\": \"Lng\",\n",
    "    \"temperature_max\": \"Max Temp\",\n",
    "    \"humidity_percent\": \"Humidity\",\n",
    "    \"cloudiness_percent\": \"Cloudiness\",\n",
    "    \"wind_speed_percent\": \"Wind Speed\",\n",
    "    \"country\": \"Country\",\n",
    "    \"date\": \"Date\"\n",
    "}, inplace=True)\n",
    "weather_df.head()"
   ]
  },
  {
   "cell_type": "code",
   "execution_count": 5,
   "metadata": {},
   "outputs": [],
   "source": [
    "weather_df['Date'] = pd.to_datetime(weather_df['Date'], unit='s')"
   ]
  },
  {
   "cell_type": "code",
   "execution_count": 6,
   "metadata": {},
   "outputs": [
    {
     "data": {
      "text/html": [
       "<div>\n",
       "<style scoped>\n",
       "    .dataframe tbody tr th:only-of-type {\n",
       "        vertical-align: middle;\n",
       "    }\n",
       "\n",
       "    .dataframe tbody tr th {\n",
       "        vertical-align: top;\n",
       "    }\n",
       "\n",
       "    .dataframe thead th {\n",
       "        text-align: right;\n",
       "    }\n",
       "</style>\n",
       "<table border=\"1\" class=\"dataframe\">\n",
       "  <thead>\n",
       "    <tr style=\"text-align: right;\">\n",
       "      <th></th>\n",
       "      <th>City</th>\n",
       "      <th>Lat</th>\n",
       "      <th>Lng</th>\n",
       "      <th>Max Temp</th>\n",
       "      <th>Humidity</th>\n",
       "      <th>Cloudiness</th>\n",
       "      <th>Wind Speed</th>\n",
       "      <th>Country</th>\n",
       "      <th>Date</th>\n",
       "    </tr>\n",
       "  </thead>\n",
       "  <tbody>\n",
       "    <tr>\n",
       "      <th>0</th>\n",
       "      <td>rikitea</td>\n",
       "      <td>-23.12</td>\n",
       "      <td>-134.97</td>\n",
       "      <td>70.88</td>\n",
       "      <td>78</td>\n",
       "      <td>8</td>\n",
       "      <td>13.49</td>\n",
       "      <td>PF</td>\n",
       "      <td>2020-08-17 17:08:02</td>\n",
       "    </tr>\n",
       "    <tr>\n",
       "      <th>1</th>\n",
       "      <td>boulder city</td>\n",
       "      <td>35.98</td>\n",
       "      <td>-114.83</td>\n",
       "      <td>100.99</td>\n",
       "      <td>22</td>\n",
       "      <td>1</td>\n",
       "      <td>9.17</td>\n",
       "      <td>US</td>\n",
       "      <td>2020-08-17 17:12:40</td>\n",
       "    </tr>\n",
       "    <tr>\n",
       "      <th>2</th>\n",
       "      <td>ushtobe</td>\n",
       "      <td>45.25</td>\n",
       "      <td>77.98</td>\n",
       "      <td>77.68</td>\n",
       "      <td>32</td>\n",
       "      <td>68</td>\n",
       "      <td>10.31</td>\n",
       "      <td>KZ</td>\n",
       "      <td>2020-08-17 17:12:40</td>\n",
       "    </tr>\n",
       "    <tr>\n",
       "      <th>3</th>\n",
       "      <td>santo antonio do ica</td>\n",
       "      <td>-3.10</td>\n",
       "      <td>-67.94</td>\n",
       "      <td>98.76</td>\n",
       "      <td>37</td>\n",
       "      <td>15</td>\n",
       "      <td>2.26</td>\n",
       "      <td>BR</td>\n",
       "      <td>2020-08-17 17:12:40</td>\n",
       "    </tr>\n",
       "    <tr>\n",
       "      <th>4</th>\n",
       "      <td>mujiayingzi</td>\n",
       "      <td>42.12</td>\n",
       "      <td>118.78</td>\n",
       "      <td>69.76</td>\n",
       "      <td>84</td>\n",
       "      <td>44</td>\n",
       "      <td>1.86</td>\n",
       "      <td>CN</td>\n",
       "      <td>2020-08-17 17:12:40</td>\n",
       "    </tr>\n",
       "    <tr>\n",
       "      <th>...</th>\n",
       "      <td>...</td>\n",
       "      <td>...</td>\n",
       "      <td>...</td>\n",
       "      <td>...</td>\n",
       "      <td>...</td>\n",
       "      <td>...</td>\n",
       "      <td>...</td>\n",
       "      <td>...</td>\n",
       "      <td>...</td>\n",
       "    </tr>\n",
       "    <tr>\n",
       "      <th>546</th>\n",
       "      <td>palmer</td>\n",
       "      <td>42.16</td>\n",
       "      <td>-72.33</td>\n",
       "      <td>78.01</td>\n",
       "      <td>57</td>\n",
       "      <td>40</td>\n",
       "      <td>1.01</td>\n",
       "      <td>US</td>\n",
       "      <td>2020-08-17 17:13:50</td>\n",
       "    </tr>\n",
       "    <tr>\n",
       "      <th>547</th>\n",
       "      <td>anloga</td>\n",
       "      <td>5.79</td>\n",
       "      <td>0.90</td>\n",
       "      <td>80.60</td>\n",
       "      <td>74</td>\n",
       "      <td>20</td>\n",
       "      <td>17.22</td>\n",
       "      <td>GH</td>\n",
       "      <td>2020-08-17 17:13:50</td>\n",
       "    </tr>\n",
       "    <tr>\n",
       "      <th>548</th>\n",
       "      <td>tombouctou</td>\n",
       "      <td>20.00</td>\n",
       "      <td>-3.00</td>\n",
       "      <td>110.12</td>\n",
       "      <td>15</td>\n",
       "      <td>0</td>\n",
       "      <td>10.09</td>\n",
       "      <td>ML</td>\n",
       "      <td>2020-08-17 17:13:50</td>\n",
       "    </tr>\n",
       "    <tr>\n",
       "      <th>549</th>\n",
       "      <td>khorramshahr</td>\n",
       "      <td>30.44</td>\n",
       "      <td>48.17</td>\n",
       "      <td>100.40</td>\n",
       "      <td>14</td>\n",
       "      <td>0</td>\n",
       "      <td>6.93</td>\n",
       "      <td>IR</td>\n",
       "      <td>2020-08-17 17:13:50</td>\n",
       "    </tr>\n",
       "    <tr>\n",
       "      <th>550</th>\n",
       "      <td>sioux lookout</td>\n",
       "      <td>50.10</td>\n",
       "      <td>-91.92</td>\n",
       "      <td>64.40</td>\n",
       "      <td>63</td>\n",
       "      <td>75</td>\n",
       "      <td>9.17</td>\n",
       "      <td>CA</td>\n",
       "      <td>2020-08-17 17:13:51</td>\n",
       "    </tr>\n",
       "  </tbody>\n",
       "</table>\n",
       "<p>551 rows × 9 columns</p>\n",
       "</div>"
      ],
      "text/plain": [
       "                     City    Lat     Lng  Max Temp  Humidity  Cloudiness  \\\n",
       "0                 rikitea -23.12 -134.97     70.88        78           8   \n",
       "1            boulder city  35.98 -114.83    100.99        22           1   \n",
       "2                 ushtobe  45.25   77.98     77.68        32          68   \n",
       "3    santo antonio do ica  -3.10  -67.94     98.76        37          15   \n",
       "4             mujiayingzi  42.12  118.78     69.76        84          44   \n",
       "..                    ...    ...     ...       ...       ...         ...   \n",
       "546                palmer  42.16  -72.33     78.01        57          40   \n",
       "547                anloga   5.79    0.90     80.60        74          20   \n",
       "548            tombouctou  20.00   -3.00    110.12        15           0   \n",
       "549          khorramshahr  30.44   48.17    100.40        14           0   \n",
       "550         sioux lookout  50.10  -91.92     64.40        63          75   \n",
       "\n",
       "     Wind Speed Country                Date  \n",
       "0         13.49      PF 2020-08-17 17:08:02  \n",
       "1          9.17      US 2020-08-17 17:12:40  \n",
       "2         10.31      KZ 2020-08-17 17:12:40  \n",
       "3          2.26      BR 2020-08-17 17:12:40  \n",
       "4          1.86      CN 2020-08-17 17:12:40  \n",
       "..          ...     ...                 ...  \n",
       "546        1.01      US 2020-08-17 17:13:50  \n",
       "547       17.22      GH 2020-08-17 17:13:50  \n",
       "548       10.09      ML 2020-08-17 17:13:50  \n",
       "549        6.93      IR 2020-08-17 17:13:50  \n",
       "550        9.17      CA 2020-08-17 17:13:51  \n",
       "\n",
       "[551 rows x 9 columns]"
      ]
     },
     "execution_count": 6,
     "metadata": {},
     "output_type": "execute_result"
    }
   ],
   "source": [
    "weather_df"
   ]
  },
  {
   "cell_type": "code",
   "execution_count": 7,
   "metadata": {},
   "outputs": [
    {
     "data": {
      "text/plain": [
       "City          551\n",
       "Lat           551\n",
       "Lng           551\n",
       "Max Temp      551\n",
       "Humidity      551\n",
       "Cloudiness    551\n",
       "Wind Speed    551\n",
       "Country       551\n",
       "Date          551\n",
       "dtype: int64"
      ]
     },
     "execution_count": 7,
     "metadata": {},
     "output_type": "execute_result"
    }
   ],
   "source": [
    "weather_df.count()"
   ]
  },
  {
   "cell_type": "code",
   "execution_count": 8,
   "metadata": {},
   "outputs": [],
   "source": [
    "# Rerun data from API. \n",
    "weather_df.to_csv(output_data_file, index=False)"
   ]
  },
  {
   "cell_type": "markdown",
   "metadata": {},
   "source": [
    "## Inspect the data and remove the cities where the humidity > 100%.\n",
    "----\n",
    "Skip this step if there are no cities that have humidity > 100%. "
   ]
  },
  {
   "cell_type": "code",
   "execution_count": 9,
   "metadata": {},
   "outputs": [
    {
     "data": {
      "text/html": [
       "<div>\n",
       "<style scoped>\n",
       "    .dataframe tbody tr th:only-of-type {\n",
       "        vertical-align: middle;\n",
       "    }\n",
       "\n",
       "    .dataframe tbody tr th {\n",
       "        vertical-align: top;\n",
       "    }\n",
       "\n",
       "    .dataframe thead th {\n",
       "        text-align: right;\n",
       "    }\n",
       "</style>\n",
       "<table border=\"1\" class=\"dataframe\">\n",
       "  <thead>\n",
       "    <tr style=\"text-align: right;\">\n",
       "      <th></th>\n",
       "      <th>Lat</th>\n",
       "      <th>Lng</th>\n",
       "      <th>Max Temp</th>\n",
       "      <th>Humidity</th>\n",
       "      <th>Cloudiness</th>\n",
       "      <th>Wind Speed</th>\n",
       "    </tr>\n",
       "  </thead>\n",
       "  <tbody>\n",
       "    <tr>\n",
       "      <th>count</th>\n",
       "      <td>551.000000</td>\n",
       "      <td>551.000000</td>\n",
       "      <td>551.000000</td>\n",
       "      <td>551.000000</td>\n",
       "      <td>551.000000</td>\n",
       "      <td>551.000000</td>\n",
       "    </tr>\n",
       "    <tr>\n",
       "      <th>mean</th>\n",
       "      <td>21.298893</td>\n",
       "      <td>16.628058</td>\n",
       "      <td>70.970635</td>\n",
       "      <td>67.099819</td>\n",
       "      <td>48.965517</td>\n",
       "      <td>8.148584</td>\n",
       "    </tr>\n",
       "    <tr>\n",
       "      <th>std</th>\n",
       "      <td>32.637678</td>\n",
       "      <td>89.184694</td>\n",
       "      <td>15.280404</td>\n",
       "      <td>22.600222</td>\n",
       "      <td>37.185881</td>\n",
       "      <td>5.725240</td>\n",
       "    </tr>\n",
       "    <tr>\n",
       "      <th>min</th>\n",
       "      <td>-54.800000</td>\n",
       "      <td>-179.170000</td>\n",
       "      <td>33.800000</td>\n",
       "      <td>3.000000</td>\n",
       "      <td>0.000000</td>\n",
       "      <td>0.450000</td>\n",
       "    </tr>\n",
       "    <tr>\n",
       "      <th>25%</th>\n",
       "      <td>-4.485000</td>\n",
       "      <td>-61.525000</td>\n",
       "      <td>57.620000</td>\n",
       "      <td>52.000000</td>\n",
       "      <td>8.000000</td>\n",
       "      <td>4.150000</td>\n",
       "    </tr>\n",
       "    <tr>\n",
       "      <th>50%</th>\n",
       "      <td>26.330000</td>\n",
       "      <td>20.980000</td>\n",
       "      <td>73.620000</td>\n",
       "      <td>73.000000</td>\n",
       "      <td>50.000000</td>\n",
       "      <td>6.930000</td>\n",
       "    </tr>\n",
       "    <tr>\n",
       "      <th>75%</th>\n",
       "      <td>48.025000</td>\n",
       "      <td>88.510000</td>\n",
       "      <td>81.045000</td>\n",
       "      <td>84.000000</td>\n",
       "      <td>84.000000</td>\n",
       "      <td>10.290000</td>\n",
       "    </tr>\n",
       "    <tr>\n",
       "      <th>max</th>\n",
       "      <td>78.220000</td>\n",
       "      <td>179.320000</td>\n",
       "      <td>115.650000</td>\n",
       "      <td>100.000000</td>\n",
       "      <td>100.000000</td>\n",
       "      <td>34.810000</td>\n",
       "    </tr>\n",
       "  </tbody>\n",
       "</table>\n",
       "</div>"
      ],
      "text/plain": [
       "              Lat         Lng    Max Temp    Humidity  Cloudiness  Wind Speed\n",
       "count  551.000000  551.000000  551.000000  551.000000  551.000000  551.000000\n",
       "mean    21.298893   16.628058   70.970635   67.099819   48.965517    8.148584\n",
       "std     32.637678   89.184694   15.280404   22.600222   37.185881    5.725240\n",
       "min    -54.800000 -179.170000   33.800000    3.000000    0.000000    0.450000\n",
       "25%     -4.485000  -61.525000   57.620000   52.000000    8.000000    4.150000\n",
       "50%     26.330000   20.980000   73.620000   73.000000   50.000000    6.930000\n",
       "75%     48.025000   88.510000   81.045000   84.000000   84.000000   10.290000\n",
       "max     78.220000  179.320000  115.650000  100.000000  100.000000   34.810000"
      ]
     },
     "execution_count": 9,
     "metadata": {},
     "output_type": "execute_result"
    }
   ],
   "source": [
    "weather_df.describe()"
   ]
  },
  {
   "cell_type": "code",
   "execution_count": 10,
   "metadata": {},
   "outputs": [
    {
     "data": {
      "text/html": [
       "<div>\n",
       "<style scoped>\n",
       "    .dataframe tbody tr th:only-of-type {\n",
       "        vertical-align: middle;\n",
       "    }\n",
       "\n",
       "    .dataframe tbody tr th {\n",
       "        vertical-align: top;\n",
       "    }\n",
       "\n",
       "    .dataframe thead th {\n",
       "        text-align: right;\n",
       "    }\n",
       "</style>\n",
       "<table border=\"1\" class=\"dataframe\">\n",
       "  <thead>\n",
       "    <tr style=\"text-align: right;\">\n",
       "      <th></th>\n",
       "      <th>City</th>\n",
       "      <th>Lat</th>\n",
       "      <th>Lng</th>\n",
       "      <th>Max Temp</th>\n",
       "      <th>Humidity</th>\n",
       "      <th>Cloudiness</th>\n",
       "      <th>Wind Speed</th>\n",
       "      <th>Country</th>\n",
       "      <th>Date</th>\n",
       "    </tr>\n",
       "  </thead>\n",
       "  <tbody>\n",
       "  </tbody>\n",
       "</table>\n",
       "</div>"
      ],
      "text/plain": [
       "Empty DataFrame\n",
       "Columns: [City, Lat, Lng, Max Temp, Humidity, Cloudiness, Wind Speed, Country, Date]\n",
       "Index: []"
      ]
     },
     "execution_count": 10,
     "metadata": {},
     "output_type": "execute_result"
    }
   ],
   "source": [
    "#  Get the indices of cities that have humidity over 100%.\n",
    "\n",
    "weather_df[weather_df[\"Humidity\"] > 100]\n",
    "\n",
    "# There are no cities with \"Humidity\" > 100%."
   ]
  },
  {
   "cell_type": "code",
   "execution_count": 11,
   "metadata": {},
   "outputs": [
    {
     "data": {
      "text/html": [
       "<div>\n",
       "<style scoped>\n",
       "    .dataframe tbody tr th:only-of-type {\n",
       "        vertical-align: middle;\n",
       "    }\n",
       "\n",
       "    .dataframe tbody tr th {\n",
       "        vertical-align: top;\n",
       "    }\n",
       "\n",
       "    .dataframe thead th {\n",
       "        text-align: right;\n",
       "    }\n",
       "</style>\n",
       "<table border=\"1\" class=\"dataframe\">\n",
       "  <thead>\n",
       "    <tr style=\"text-align: right;\">\n",
       "      <th></th>\n",
       "      <th>City</th>\n",
       "      <th>Lat</th>\n",
       "      <th>Lng</th>\n",
       "      <th>Max Temp</th>\n",
       "      <th>Humidity</th>\n",
       "      <th>Cloudiness</th>\n",
       "      <th>Wind Speed</th>\n",
       "      <th>Country</th>\n",
       "      <th>Date</th>\n",
       "    </tr>\n",
       "  </thead>\n",
       "  <tbody>\n",
       "    <tr>\n",
       "      <th>0</th>\n",
       "      <td>rikitea</td>\n",
       "      <td>-23.12</td>\n",
       "      <td>-134.97</td>\n",
       "      <td>70.88</td>\n",
       "      <td>78</td>\n",
       "      <td>8</td>\n",
       "      <td>13.49</td>\n",
       "      <td>PF</td>\n",
       "      <td>2020-08-17 17:08:02</td>\n",
       "    </tr>\n",
       "    <tr>\n",
       "      <th>1</th>\n",
       "      <td>boulder city</td>\n",
       "      <td>35.98</td>\n",
       "      <td>-114.83</td>\n",
       "      <td>100.99</td>\n",
       "      <td>22</td>\n",
       "      <td>1</td>\n",
       "      <td>9.17</td>\n",
       "      <td>US</td>\n",
       "      <td>2020-08-17 17:12:40</td>\n",
       "    </tr>\n",
       "    <tr>\n",
       "      <th>2</th>\n",
       "      <td>ushtobe</td>\n",
       "      <td>45.25</td>\n",
       "      <td>77.98</td>\n",
       "      <td>77.68</td>\n",
       "      <td>32</td>\n",
       "      <td>68</td>\n",
       "      <td>10.31</td>\n",
       "      <td>KZ</td>\n",
       "      <td>2020-08-17 17:12:40</td>\n",
       "    </tr>\n",
       "    <tr>\n",
       "      <th>3</th>\n",
       "      <td>santo antonio do ica</td>\n",
       "      <td>-3.10</td>\n",
       "      <td>-67.94</td>\n",
       "      <td>98.76</td>\n",
       "      <td>37</td>\n",
       "      <td>15</td>\n",
       "      <td>2.26</td>\n",
       "      <td>BR</td>\n",
       "      <td>2020-08-17 17:12:40</td>\n",
       "    </tr>\n",
       "    <tr>\n",
       "      <th>4</th>\n",
       "      <td>mujiayingzi</td>\n",
       "      <td>42.12</td>\n",
       "      <td>118.78</td>\n",
       "      <td>69.76</td>\n",
       "      <td>84</td>\n",
       "      <td>44</td>\n",
       "      <td>1.86</td>\n",
       "      <td>CN</td>\n",
       "      <td>2020-08-17 17:12:40</td>\n",
       "    </tr>\n",
       "    <tr>\n",
       "      <th>...</th>\n",
       "      <td>...</td>\n",
       "      <td>...</td>\n",
       "      <td>...</td>\n",
       "      <td>...</td>\n",
       "      <td>...</td>\n",
       "      <td>...</td>\n",
       "      <td>...</td>\n",
       "      <td>...</td>\n",
       "      <td>...</td>\n",
       "    </tr>\n",
       "    <tr>\n",
       "      <th>546</th>\n",
       "      <td>palmer</td>\n",
       "      <td>42.16</td>\n",
       "      <td>-72.33</td>\n",
       "      <td>78.01</td>\n",
       "      <td>57</td>\n",
       "      <td>40</td>\n",
       "      <td>1.01</td>\n",
       "      <td>US</td>\n",
       "      <td>2020-08-17 17:13:50</td>\n",
       "    </tr>\n",
       "    <tr>\n",
       "      <th>547</th>\n",
       "      <td>anloga</td>\n",
       "      <td>5.79</td>\n",
       "      <td>0.90</td>\n",
       "      <td>80.60</td>\n",
       "      <td>74</td>\n",
       "      <td>20</td>\n",
       "      <td>17.22</td>\n",
       "      <td>GH</td>\n",
       "      <td>2020-08-17 17:13:50</td>\n",
       "    </tr>\n",
       "    <tr>\n",
       "      <th>548</th>\n",
       "      <td>tombouctou</td>\n",
       "      <td>20.00</td>\n",
       "      <td>-3.00</td>\n",
       "      <td>110.12</td>\n",
       "      <td>15</td>\n",
       "      <td>0</td>\n",
       "      <td>10.09</td>\n",
       "      <td>ML</td>\n",
       "      <td>2020-08-17 17:13:50</td>\n",
       "    </tr>\n",
       "    <tr>\n",
       "      <th>549</th>\n",
       "      <td>khorramshahr</td>\n",
       "      <td>30.44</td>\n",
       "      <td>48.17</td>\n",
       "      <td>100.40</td>\n",
       "      <td>14</td>\n",
       "      <td>0</td>\n",
       "      <td>6.93</td>\n",
       "      <td>IR</td>\n",
       "      <td>2020-08-17 17:13:50</td>\n",
       "    </tr>\n",
       "    <tr>\n",
       "      <th>550</th>\n",
       "      <td>sioux lookout</td>\n",
       "      <td>50.10</td>\n",
       "      <td>-91.92</td>\n",
       "      <td>64.40</td>\n",
       "      <td>63</td>\n",
       "      <td>75</td>\n",
       "      <td>9.17</td>\n",
       "      <td>CA</td>\n",
       "      <td>2020-08-17 17:13:51</td>\n",
       "    </tr>\n",
       "  </tbody>\n",
       "</table>\n",
       "<p>551 rows × 9 columns</p>\n",
       "</div>"
      ],
      "text/plain": [
       "                     City    Lat     Lng  Max Temp  Humidity  Cloudiness  \\\n",
       "0                 rikitea -23.12 -134.97     70.88        78           8   \n",
       "1            boulder city  35.98 -114.83    100.99        22           1   \n",
       "2                 ushtobe  45.25   77.98     77.68        32          68   \n",
       "3    santo antonio do ica  -3.10  -67.94     98.76        37          15   \n",
       "4             mujiayingzi  42.12  118.78     69.76        84          44   \n",
       "..                    ...    ...     ...       ...       ...         ...   \n",
       "546                palmer  42.16  -72.33     78.01        57          40   \n",
       "547                anloga   5.79    0.90     80.60        74          20   \n",
       "548            tombouctou  20.00   -3.00    110.12        15           0   \n",
       "549          khorramshahr  30.44   48.17    100.40        14           0   \n",
       "550         sioux lookout  50.10  -91.92     64.40        63          75   \n",
       "\n",
       "     Wind Speed Country                Date  \n",
       "0         13.49      PF 2020-08-17 17:08:02  \n",
       "1          9.17      US 2020-08-17 17:12:40  \n",
       "2         10.31      KZ 2020-08-17 17:12:40  \n",
       "3          2.26      BR 2020-08-17 17:12:40  \n",
       "4          1.86      CN 2020-08-17 17:12:40  \n",
       "..          ...     ...                 ...  \n",
       "546        1.01      US 2020-08-17 17:13:50  \n",
       "547       17.22      GH 2020-08-17 17:13:50  \n",
       "548       10.09      ML 2020-08-17 17:13:50  \n",
       "549        6.93      IR 2020-08-17 17:13:50  \n",
       "550        9.17      CA 2020-08-17 17:13:51  \n",
       "\n",
       "[551 rows x 9 columns]"
      ]
     },
     "execution_count": 11,
     "metadata": {},
     "output_type": "execute_result"
    }
   ],
   "source": [
    "# Make a new DataFrame equal to the city data to drop all humidity outliers by index.\n",
    "# Passing \"inplace=False\" will make a copy of the city_data DataFrame, which we call \"clean_city_data\".\n",
    "\n",
    "clean_city_df = weather_df[weather_df[\"Humidity\"] <= 100]\n",
    "clean_city_df"
   ]
  },
  {
   "cell_type": "code",
   "execution_count": 12,
   "metadata": {},
   "outputs": [],
   "source": [
    "# Export the City_Data into a csv\n",
    "clean_city_df.to_csv(output_data_file, index=False)"
   ]
  },
  {
   "cell_type": "markdown",
   "metadata": {},
   "source": [
    "## Plotting the Data\n",
    "* Use proper labeling of the plots using plot titles (including date of analysis) and axes labels.\n",
    "* Save the plotted figures as .pngs."
   ]
  },
  {
   "cell_type": "markdown",
   "metadata": {},
   "source": [
    "## Latitude vs. Temperature Plot"
   ]
  },
  {
   "cell_type": "code",
   "execution_count": 13,
   "metadata": {},
   "outputs": [],
   "source": [
    "%matplotlib inline"
   ]
  },
  {
   "cell_type": "code",
   "execution_count": 14,
   "metadata": {
    "scrolled": true
   },
   "outputs": [
    {
     "data": {
      "image/png": "[encoded data removed]",
      "text/plain": [
       "<Figure size 432x288 with 1 Axes>"
      ]
     },
     "metadata": {
      "needs_background": "light"
     },
     "output_type": "display_data"
    }
   ],
   "source": [
    "plt.scatter(clean_city_df[\"Lat\"], clean_city_df[\"Max Temp\"], edgecolors='black')\n",
    "plt.title(\"City Latitude vs. Max Temperature\")\n",
    "plt.xlabel(\"Latitude\")\n",
    "plt.grid()\n",
    "plt.ylabel(\"Max Temperature (F)\")\n",
    "plt.savefig(\"output_data/Latitude_vs_Temperature_Plot\")"
   ]
  },
  {
   "cell_type": "markdown",
   "metadata": {},
   "source": [
    "#### As a cities location is closer to the equator the max temperature increases."
   ]
  },
  {
   "cell_type": "markdown",
   "metadata": {},
   "source": [
    "## Latitude vs. Humidity Plot"
   ]
  },
  {
   "cell_type": "code",
   "execution_count": 15,
   "metadata": {},
   "outputs": [
    {
     "data": {
      "image/png": "[encoded data removed]",
      "text/plain": [
       "<Figure size 432x288 with 1 Axes>"
      ]
     },
     "metadata": {
      "needs_background": "light"
     },
     "output_type": "display_data"
    }
   ],
   "source": [
    "plt.scatter(clean_city_df[\"Lat\"], clean_city_df[\"Humidity\"], edgecolors='black')\n",
    "plt.title(\"City Latitude vs. Humidity\")\n",
    "plt.xlabel(\"Latitude\")\n",
    "plt.ylabel(\"Humidity\")\n",
    "plt.grid()\n",
    "plt.savefig(\"output_data/Latitude_vs_Humidity_Plot\")"
   ]
  },
  {
   "cell_type": "markdown",
   "metadata": {},
   "source": [
    "#### There is no correlation between a cities latitude and humidity."
   ]
  },
  {
   "cell_type": "markdown",
   "metadata": {},
   "source": [
    "## Latitude vs. Cloudiness Plot"
   ]
  },
  {
   "cell_type": "code",
   "execution_count": 16,
   "metadata": {},
   "outputs": [
    {
     "data": {
      "image/png": "[encoded data removed]",
      "text/plain": [
       "<Figure size 432x288 with 1 Axes>"
      ]
     },
     "metadata": {
      "needs_background": "light"
     },
     "output_type": "display_data"
    }
   ],
   "source": [
    "plt.scatter(clean_city_df[\"Lat\"], clean_city_df[\"Cloudiness\"], edgecolors = 'black')\n",
    "plt.title(\"City Latitude vs. Cloudiness\")\n",
    "plt.xlabel(\"Latitude\")\n",
    "plt.ylabel(\"Cloudiness\")\n",
    "plt.grid()\n",
    "plt.savefig(\"output_data/Latitude_vs_Cloudiness_Plot\")"
   ]
  },
  {
   "cell_type": "markdown",
   "metadata": {},
   "source": [
    "#### There is no correlation between a cities latitude and cloudiness."
   ]
  },
  {
   "cell_type": "markdown",
   "metadata": {},
   "source": [
    "## Latitude vs. Wind Speed Plot"
   ]
  },
  {
   "cell_type": "code",
   "execution_count": 17,
   "metadata": {},
   "outputs": [
    {
     "data": {
      "image/png": "[encoded data removed]",
      "text/plain": [
       "<Figure size 432x288 with 1 Axes>"
      ]
     },
     "metadata": {
      "needs_background": "light"
     },
     "output_type": "display_data"
    }
   ],
   "source": [
    "plt.scatter(clean_city_df[\"Lat\"], clean_city_df[\"Wind Speed\"], edgecolors='black')\n",
    "plt.title(\"City Latitude vs. Wind Speed\")\n",
    "plt.xlabel(\"Latitude\")\n",
    "plt.ylabel(\"Wind Speed\")\n",
    "plt.grid()\n",
    "plt.savefig(\"output_data/Latitude_vs_Wind_Speed_Plot\")"
   ]
  },
  {
   "cell_type": "markdown",
   "metadata": {},
   "source": [
    "#### There is no correlation between a cities latitude and wind speed."
   ]
  },
  {
   "cell_type": "markdown",
   "metadata": {},
   "source": [
    "## Linear Regression"
   ]
  },
  {
   "cell_type": "code",
   "execution_count": 18,
   "metadata": {},
   "outputs": [],
   "source": [
    "# # OPTIONAL: Create a function to create Linear Regression plots\n",
    "\n",
    "def lin_regression_plot(x, y, title, xlabel, ylabel):\n",
    "    slope, intercept, r_value, p_value, std_err = linregress(x, y)\n",
    "\n",
    "    # print(\"slope: %f    intercept: %f\" % (slope, intercept))\n",
    "\n",
    "    print(f\"The r-squared is: {r_value ** 2}\")\n",
    "\n",
    "    plt.plot(x, y, 'o', label='original data')\n",
    "    plt.plot(x, intercept + slope*x, 'r', label='fitted line')\n",
    "    plt.legend()\n",
    "\n",
    "    plt.title(title)\n",
    "    plt.xlabel(xlabel)\n",
    "    plt.ylabel(ylabel)\n",
    "    filename = f\"{title}_regression\".replace(\" \", \"_\")\n",
    "    plt.savefig(f\"output_data/{filename}\")"
   ]
  },
  {
   "cell_type": "code",
   "execution_count": 19,
   "metadata": {},
   "outputs": [],
   "source": [
    "# Create Northern and Southern Hemisphere DataFrames\n",
    "\n",
    "northern_df = clean_city_df[clean_city_df[\"Lat\"] >= 0]\n",
    "\n",
    "southern_df = clean_city_df[clean_city_df[\"Lat\"] < 0]"
   ]
  },
  {
   "cell_type": "markdown",
   "metadata": {},
   "source": [
    "####  Northern Hemisphere - Max Temp vs. Latitude Linear Regression"
   ]
  },
  {
   "cell_type": "code",
   "execution_count": 20,
   "metadata": {},
   "outputs": [
    {
     "name": "stdout",
     "output_type": "stream",
     "text": [
      "The r-squared is: 0.5124257409702572\n"
     ]
    },
    {
     "data": {
      "image/png": "[encoded data removed]",
      "text/plain": [
       "<Figure size 432x288 with 1 Axes>"
      ]
     },
     "metadata": {
      "needs_background": "light"
     },
     "output_type": "display_data"
    }
   ],
   "source": [
    "x = northern_df[\"Lat\"] \n",
    "y = northern_df[\"Max Temp\"]\n",
    "\n",
    "title = \"Northern Hemisphere Latitude vs Max Temperature\"\n",
    "xlabel = \"Latitude\"\n",
    "ylabel = \"Max Temp (F)\"\n",
    "\n",
    "lin_regression_plot(x, y, title, xlabel, ylabel)\n",
    "\n",
    "# # Method 2:lin_regression_plot(northern_df[\"Lat\"], \n",
    "#                     northern_df[\"Max Temp\"], \n",
    "#                     \"Latitude vs. Max Temp\", \n",
    "#                     \"Latitude\", \n",
    "#                     \"Max Temp\"\n",
    "#                    )"
   ]
  },
  {
   "cell_type": "markdown",
   "metadata": {},
   "source": [
    "#### As the latitude increases the max temperature decreases."
   ]
  },
  {
   "cell_type": "markdown",
   "metadata": {},
   "source": [
    "####  Southern Hemisphere - Max Temp vs. Latitude Linear Regression"
   ]
  },
  {
   "cell_type": "code",
   "execution_count": 21,
   "metadata": {
    "scrolled": true
   },
   "outputs": [
    {
     "name": "stdout",
     "output_type": "stream",
     "text": [
      "The r-squared is: 0.6675742098885095\n"
     ]
    },
    {
     "data": {
      "image/png": "[encoded data removed]",
      "text/plain": [
       "<Figure size 432x288 with 1 Axes>"
      ]
     },
     "metadata": {
      "needs_background": "light"
     },
     "output_type": "display_data"
    }
   ],
   "source": [
    "x = southern_df[\"Lat\"] \n",
    "y = southern_df[\"Max Temp\"]\n",
    "\n",
    "title = \"Southern Hemisphere Latitude vs Max Temperature\"\n",
    "xlabel = \"Latitude\"\n",
    "ylabel = \"Max Temp (F)\"\n",
    "\n",
    "lin_regression_plot(x, y, title, xlabel, ylabel)"
   ]
  },
  {
   "cell_type": "markdown",
   "metadata": {},
   "source": [
    "#### The max temperature increases as the latitude gets closer to zero."
   ]
  },
  {
   "cell_type": "markdown",
   "metadata": {},
   "source": [
    "####  Northern Hemisphere - Humidity (%) vs. Latitude Linear Regression"
   ]
  },
  {
   "cell_type": "code",
   "execution_count": 22,
   "metadata": {
    "scrolled": true
   },
   "outputs": [
    {
     "name": "stdout",
     "output_type": "stream",
     "text": [
      "The r-squared is: 2.4235391359183444e-05\n"
     ]
    },
    {
     "data": {
      "image/png": "[encoded data removed]",
      "text/plain": [
       "<Figure size 432x288 with 1 Axes>"
      ]
     },
     "metadata": {
      "needs_background": "light"
     },
     "output_type": "display_data"
    }
   ],
   "source": [
    "x = northern_df[\"Lat\"] \n",
    "y = northern_df[\"Humidity\"]\n",
    "\n",
    "title = \"Northern Hemisphere Latitude vs Humidity\"\n",
    "xlabel = \"Latitude\"\n",
    "ylabel = \"Humidity(%)\"\n",
    "\n",
    "lin_regression_plot(x, y, title, xlabel, ylabel)"
   ]
  },
  {
   "cell_type": "markdown",
   "metadata": {},
   "source": [
    "#### There is no correlation between the cities in the Northern hemisphere and humidity."
   ]
  },
  {
   "cell_type": "markdown",
   "metadata": {},
   "source": [
    "####  Southern Hemisphere - Humidity (%) vs. Latitude Linear Regression"
   ]
  },
  {
   "cell_type": "code",
   "execution_count": 23,
   "metadata": {
    "scrolled": false
   },
   "outputs": [
    {
     "name": "stdout",
     "output_type": "stream",
     "text": [
      "The r-squared is: 0.014284906007385453\n"
     ]
    },
    {
     "data": {
      "image/png": "[encoded data removed]",
      "text/plain": [
       "<Figure size 432x288 with 1 Axes>"
      ]
     },
     "metadata": {
      "needs_background": "light"
     },
     "output_type": "display_data"
    }
   ],
   "source": [
    "x = southern_df[\"Lat\"] \n",
    "y = southern_df[\"Humidity\"]\n",
    "\n",
    "title = \"Southern Hemisphere Latitude vs Humidity\"\n",
    "xlabel = \"Latitude\"\n",
    "ylabel = \"Humidity(%)\"\n",
    "\n",
    "lin_regression_plot(x, y, title, xlabel, ylabel)"
   ]
  },
  {
   "cell_type": "markdown",
   "metadata": {},
   "source": [
    "#### There is no correlation between the cities in the Southern hemisphere and humidity."
   ]
  },
  {
   "cell_type": "markdown",
   "metadata": {},
   "source": [
    "####  Northern Hemisphere - Cloudiness (%) vs. Latitude Linear Regression"
   ]
  },
  {
   "cell_type": "code",
   "execution_count": 24,
   "metadata": {},
   "outputs": [
    {
     "name": "stdout",
     "output_type": "stream",
     "text": [
      "The r-squared is: 0.0006741529572646755\n"
     ]
    },
    {
     "data": {
      "image/png": "[encoded data removed]",
      "text/plain": [
       "<Figure size 432x288 with 1 Axes>"
      ]
     },
     "metadata": {
      "needs_background": "light"
     },
     "output_type": "display_data"
    }
   ],
   "source": [
    "x = northern_df[\"Lat\"] \n",
    "y = northern_df[\"Cloudiness\"]\n",
    "\n",
    "title = \"Northern Hemisphere Latitude vs Cloudiness\"\n",
    "xlabel = \"Latitude\"\n",
    "ylabel = \"Cloudiness (%)\"\n",
    "\n",
    "lin_regression_plot(x, y, title, xlabel, ylabel)"
   ]
  },
  {
   "cell_type": "markdown",
   "metadata": {},
   "source": [
    "#### There is no correlation between the cities in the Northern hemisphere and cloudiness."
   ]
  },
  {
   "cell_type": "markdown",
   "metadata": {},
   "source": [
    "####  Southern Hemisphere - Cloudiness (%) vs. Latitude Linear Regression"
   ]
  },
  {
   "cell_type": "code",
   "execution_count": 25,
   "metadata": {
    "scrolled": true
   },
   "outputs": [
    {
     "name": "stdout",
     "output_type": "stream",
     "text": [
      "The r-squared is: 0.0009849819205457614\n"
     ]
    },
    {
     "data": {
      "image/png": "[encoded data removed]",
      "text/plain": [
       "<Figure size 432x288 with 1 Axes>"
      ]
     },
     "metadata": {
      "needs_background": "light"
     },
     "output_type": "display_data"
    }
   ],
   "source": [
    "x = southern_df[\"Lat\"] \n",
    "y = southern_df[\"Cloudiness\"]\n",
    "\n",
    "title = \"Southern Hemisphere Latitude vs Cloudiness\"\n",
    "xlabel = \"Latitude\"\n",
    "ylabel = \"Cloudiness (%)\"\n",
    "\n",
    "lin_regression_plot(x, y, title, xlabel, ylabel)"
   ]
  },
  {
   "cell_type": "markdown",
   "metadata": {},
   "source": [
    "#### There is no correlation between the cities in the Southern hemisphere and cloudiness."
   ]
  },
  {
   "cell_type": "markdown",
   "metadata": {},
   "source": [
    "####  Northern Hemisphere - Wind Speed (mph) vs. Latitude Linear Regression"
   ]
  },
  {
   "cell_type": "code",
   "execution_count": 26,
   "metadata": {},
   "outputs": [
    {
     "name": "stdout",
     "output_type": "stream",
     "text": [
      "The r-squared is: 0.0009038806552428339\n"
     ]
    },
    {
     "data": {
      "image/png": "[encoded data removed]",
      "text/plain": [
       "<Figure size 432x288 with 1 Axes>"
      ]
     },
     "metadata": {
      "needs_background": "light"
     },
     "output_type": "display_data"
    }
   ],
   "source": [
    "x = northern_df[\"Lat\"] \n",
    "y = northern_df[\"Wind Speed\"]\n",
    "\n",
    "title = \"Northern Hemisphere Latitude vs Wind Speed\"\n",
    "xlabel = \"Latitude\"\n",
    "ylabel = \"Wind Speed (mph)\"\n",
    "\n",
    "lin_regression_plot(x, y, title, xlabel, ylabel)"
   ]
  },
  {
   "cell_type": "markdown",
   "metadata": {},
   "source": [
    "#### There is no correlation between the cities in the Northern hemisphere and wind speed."
   ]
  },
  {
   "cell_type": "markdown",
   "metadata": {},
   "source": [
    "####  Southern Hemisphere - Wind Speed (mph) vs. Latitude Linear Regression"
   ]
  },
  {
   "cell_type": "code",
   "execution_count": 27,
   "metadata": {},
   "outputs": [
    {
     "name": "stdout",
     "output_type": "stream",
     "text": [
      "The r-squared is: 0.012545817538918345\n"
     ]
    },
    {
     "data": {
      "image/png": "[encoded data removed]",
      "text/plain": [
       "<Figure size 432x288 with 1 Axes>"
      ]
     },
     "metadata": {
      "needs_background": "light"
     },
     "output_type": "display_data"
    }
   ],
   "source": [
    "x = southern_df[\"Lat\"] \n",
    "y = southern_df[\"Wind Speed\"]\n",
    "\n",
    "title = \"Southern Hemisphere Latitude vs Wind Speed\"\n",
    "xlabel = \"Latitude\"\n",
    "ylabel = \"Wind Speed (mph)\"\n",
    "\n",
    "lin_regression_plot(x, y, title, xlabel, ylabel)"
   ]
  },
  {
   "cell_type": "markdown",
   "metadata": {},
   "source": [
    "#### There is no correlation between the cities in the Southern hemisphere and wind speed."
   ]
  },
  {
   "cell_type": "code",
   "execution_count": null,
   "metadata": {},
   "outputs": [],
   "source": []
  }
 ],
 "metadata": {
  "anaconda-cloud": {},
  "kernel_info": {
   "name": "python3"
  },
  "kernelspec": {
   "display_name": "Python 3",
   "language": "python",
   "name": "python3"
  },
  "language_info": {
   "codemirror_mode": {
    "name": "ipython",
    "version": 3
   },
   "file_extension": ".py",
   "mimetype": "text/x-python",
   "name": "python",
   "nbconvert_exporter": "python",
   "pygments_lexer": "ipython3",
   "version": "3.7.6"
  },
  "latex_envs": {
   "LaTeX_envs_menu_present": true,
   "autoclose": false,
   "autocomplete": true,
   "bibliofile": "biblio.bib",
   "cite_by": "apalike",
   "current_citInitial": 1,
   "eqLabelWithNumbers": true,
   "eqNumInitial": 1,
   "hotkeys": {
    "equation": "Ctrl-E",
    "itemize": "Ctrl-I"
   },
   "labels_anchors": false,
   "latex_user_defs": false,
   "report_style_numbering": false,
   "user_envs_cfg": false
  },
  "nteract": {
   "version": "0.12.3"
  }
 },
 "nbformat": 4,
 "nbformat_minor": 4
}
